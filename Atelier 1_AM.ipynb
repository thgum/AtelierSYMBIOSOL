{
 "cells": [
  {
   "cell_type": "markdown",
   "id": "30172e0f",
   "metadata": {},
   "source": [
    "# Atelier 1"
   ]
  },
  {
   "cell_type": "markdown",
   "id": "d81a1c3d",
   "metadata": {},
   "source": [
    "Cet atelier propose une initiation à la bioinformatique appliquée à l’étude du microbiome des sols. Les participants découvriront les concepts clés, les formats de données et les outils couramment utilisés. L’analyse de la diversité fongique et eucaryote sera abordée à travers un pipeline complet, incluant les bases de données de référence et la visualisation des résultats. Une introduction aux statistiques appliquées aux données omiques complètera la formation, avec un focus sur les indices de diversité (alpha/bêta) et les analyses multivariées de base."
   ]
  },
  {
   "cell_type": "code",
   "execution_count": null,
   "id": "6dea4b4e",
   "metadata": {},
   "outputs": [],
   "source": [
    "!git clone https://github.com/thomasbio/AtelierSYMBIOSOL.git"
   ]
  },
  {
   "cell_type": "code",
   "execution_count": null,
   "id": "e9adb9dd",
   "metadata": {},
   "outputs": [],
   "source": [
    "%cd AtelierSYMBIOSOL\n",
    "%run setup_qiime2\n"
   ]
  },
  {
   "cell_type": "markdown",
   "id": "a7be40f9",
   "metadata": {},
   "source": [
    "## Importer les informations relatives aux échantillons (metadata)"
   ]
  },
  {
   "cell_type": "code",
   "execution_count": null,
   "id": "52c3bef3",
   "metadata": {},
   "outputs": [],
   "source": [
    "import pandas as pd\n",
    "metadata = pd.read_csv('data/metadata.tsv', sep = '\\t')\n",
    "metadata"
   ]
  },
  {
   "cell_type": "markdown",
   "id": "e526d402",
   "metadata": {},
   "source": [
    "## Importer les fichiers FASTQ (R1 et R2)"
   ]
  },
  {
   "cell_type": "code",
   "execution_count": null,
   "id": "20289655",
   "metadata": {},
   "outputs": [],
   "source": [
    "!qiime tools import \\\n",
    "  --type 'SampleData[PairedEndSequencesWithQuality]' \\\n",
    "  --input-path data/procaryotes/fastq_subset \\\n",
    "  --input-format CasavaOneEightSingleLanePerSampleDirFmt \\\n",
    "  --output-path demux-paired-end.qza"
   ]
  },
  {
   "cell_type": "markdown",
   "id": "1c25322b",
   "metadata": {},
   "source": [
    "## Évaluer la qualité des séquences et définir les paramètres de filtration"
   ]
  },
  {
   "cell_type": "code",
   "execution_count": null,
   "id": "9eea3421",
   "metadata": {},
   "outputs": [],
   "source": [
    "!qiime demux summarize \\\n",
    "  --i-data demux-paired-end.qza \\\n",
    "  --o-visualization demux-paired-end.qzv\n"
   ]
  },
  {
   "cell_type": "markdown",
   "id": "673c9d21",
   "metadata": {},
   "source": [
    "Quel réglage utiliser pour trunc-len-f et trunc-len-r?"
   ]
  },
  {
   "cell_type": "code",
   "execution_count": null,
   "id": "f104e548",
   "metadata": {},
   "outputs": [],
   "source": [
    "!qiime dada2 denoise-paired \\\n",
    "  --i-demultiplexed-seqs demux-paired-end.qza \\\n",
    "  --o-table table-emp \\\n",
    "  --o-representative-sequences rep-seqs \\\n",
    "  --o-denoising-stats denoising-stats.qza \\\n",
    "  --p-n-threads 1 \\\n",
    "  --p-trim-left-f 19 \\\n",
    "  --p-trim-left-r 20 \\\n",
    "  --p-trunc-len-f xxx \\\n",
    "  --p-trunc-len-r xxx"
   ]
  },
  {
   "cell_type": "markdown",
   "id": "bd61b1fd",
   "metadata": {},
   "source": [
    "# Visualisation des stats"
   ]
  },
  {
   "cell_type": "code",
   "execution_count": null,
   "id": "1dd933fd",
   "metadata": {},
   "outputs": [],
   "source": [
    "qiime metadata tabulate \\\n",
    "  --m-input-file denoising-stats.qza \\\n",
    "  --o-visualization denoising-stats.qzv"
   ]
  },
  {
   "cell_type": "code",
   "execution_count": null,
   "id": "d1300864",
   "metadata": {},
   "outputs": [],
   "source": [
    "Pourquoi selon vous le pourcentage de séquence retenue à la fin est-il si faible?\n",
    "(Comparez avec le fichier denoising-stats.qzv avec toutes les séquences dans output_16S)"
   ]
  },
  {
   "cell_type": "markdown",
   "id": "92436009",
   "metadata": {},
   "source": [
    "## Assignation taxonomique | bactéries"
   ]
  },
  {
   "cell_type": "code",
   "execution_count": null,
   "id": "8793834f",
   "metadata": {},
   "outputs": [],
   "source": [
    "!qiime feature-classifier classify-sklearn \\\n",
    "  --i-classifier 2024.09.backbone.v4.nb.sklearn-1.4.2.qza \\\n",
    "  --i-reads rep-seqs.qza \\\n",
    "  --o-classification taxo-gg2.qza"
   ]
  },
  {
   "cell_type": "markdown",
   "id": "cdd71d5c",
   "metadata": {},
   "source": [
    "## Visualiser les proportions relatives des groupes taxonomiques"
   ]
  },
  {
   "cell_type": "code",
   "execution_count": null,
   "id": "6de41264",
   "metadata": {},
   "outputs": [],
   "source": [
    "!qiime taxa barplot \\\n",
    "  --i-table table-emp.qza \\\n",
    "  --i-taxonomy taxo-gg2.qza \\\n",
    "  --m-metadata-file data/metadata.tsv \\\n",
    "  --o-visualization taxa-bar-plots-emp.qzv\n",
    "\n",
    "#qiime2.Visualization.load('taxa-bar-plots-emp.qzv')"
   ]
  },
  {
   "cell_type": "code",
   "execution_count": null,
   "id": "1a745828",
   "metadata": {},
   "outputs": [],
   "source": [
    "Trouvez comment éliminer les séquences sans phylum\n"
   ]
  },
  {
   "cell_type": "code",
   "execution_count": null,
   "id": "6956a53f",
   "metadata": {},
   "outputs": [],
   "source": [
    "!qiime"
   ]
  },
  {
   "cell_type": "markdown",
   "id": "653332a5",
   "metadata": {},
   "source": [
    "Avec quelle version de Qiime, le fichier table-emp.qza a été généré? (fichier dans le dossier ouput_16S)"
   ]
  }
 ],
 "metadata": {
  "kernelspec": {
   "display_name": "Python 3 (ipykernel)",
   "language": "python",
   "name": "python3"
  },
  "language_info": {
   "codemirror_mode": {
    "name": "ipython",
    "version": 3
   },
   "file_extension": ".py",
   "mimetype": "text/x-python",
   "name": "python",
   "nbconvert_exporter": "python",
   "pygments_lexer": "ipython3",
   "version": "3.11.5"
  }
 },
 "nbformat": 4,
 "nbformat_minor": 5
}
